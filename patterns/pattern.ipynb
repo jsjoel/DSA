{
 "cells": [
  {
   "cell_type": "markdown",
   "metadata": {},
   "source": [
    "Printing Patterns\n"
   ]
  },
  {
   "cell_type": "markdown",
   "metadata": {},
   "source": [
    "1. Rectangular pattern"
   ]
  },
  {
   "cell_type": "code",
   "execution_count": 2,
   "metadata": {},
   "outputs": [
    {
     "name": "stdout",
     "output_type": "stream",
     "text": [
      "* * * \n",
      "* * * \n",
      "* * * \n"
     ]
    }
   ],
   "source": [
    "def nForest(n:int) ->None:\n",
    "\n",
    "    # Write your solution here.\n",
    "    for i in range(0,n):\n",
    "        print('* '*n)\n",
    "n=3\n",
    "nForest(n)"
   ]
  },
  {
   "cell_type": "markdown",
   "metadata": {},
   "source": [
    "2.Half triangle"
   ]
  },
  {
   "cell_type": "code",
   "execution_count": 3,
   "metadata": {},
   "outputs": [
    {
     "name": "stdout",
     "output_type": "stream",
     "text": [
      "* \n",
      "* * \n",
      "* * * \n"
     ]
    }
   ],
   "source": [
    "def nForest(n:int) ->None:\n",
    "    for i in range(0,n):\n",
    "        print('* '*(i+1))\n",
    "\n",
    "n=3\n",
    "nForest(n)"
   ]
  },
  {
   "cell_type": "markdown",
   "metadata": {},
   "source": [
    "3.Half triangle with numbers"
   ]
  },
  {
   "cell_type": "code",
   "execution_count": 12,
   "metadata": {},
   "outputs": [
    {
     "name": "stdout",
     "output_type": "stream",
     "text": [
      "1 \n",
      "1 2 \n",
      "1 2 3 \n"
     ]
    }
   ],
   "source": [
    "def nForest(n:int) ->None:\n",
    "    for row in range(1,n+1):\n",
    "        for col in range(1,row+1):\n",
    "            print(col,end=' ')\n",
    "        print()\n",
    "\n",
    "n=3\n",
    "nForest(n)"
   ]
  },
  {
   "cell_type": "code",
   "execution_count": 13,
   "metadata": {},
   "outputs": [
    {
     "name": "stdout",
     "output_type": "stream",
     "text": [
      "1 \n",
      "2 2 \n",
      "3 3 3 \n"
     ]
    }
   ],
   "source": [
    "def nForest(n:int) ->None:\n",
    "    for row in range(1,n+1):\n",
    "        for col in range(1,row+1):\n",
    "            print(row,end=' ')\n",
    "        print()\n",
    "\n",
    "n=3\n",
    "nForest(n)"
   ]
  },
  {
   "cell_type": "markdown",
   "metadata": {},
   "source": [
    "5.Upside down triangle"
   ]
  },
  {
   "cell_type": "code",
   "execution_count": 15,
   "metadata": {},
   "outputs": [
    {
     "name": "stdout",
     "output_type": "stream",
     "text": [
      "* * * \n",
      "* * \n",
      "* \n"
     ]
    }
   ],
   "source": [
    "def nForest(n:int) ->None:\n",
    "    for row in range(n):\n",
    "        print('* '*(n-row))\n",
    "\n",
    "n=3\n",
    "nForest(n)"
   ]
  },
  {
   "cell_type": "markdown",
   "metadata": {},
   "source": [
    "5.Upside down triangle with numbers"
   ]
  },
  {
   "cell_type": "code",
   "execution_count": 24,
   "metadata": {},
   "outputs": [
    {
     "name": "stdout",
     "output_type": "stream",
     "text": [
      "1 2 3 \n",
      "1 2 \n",
      "1 \n"
     ]
    }
   ],
   "source": [
    "def nForest(n:int) ->None:\n",
    "    for i in range(n,0,-1):\n",
    "        for j in range(i):\n",
    "            print(j+1,end=' ')\n",
    "        print()\n",
    "\n",
    "\n",
    "n=3\n",
    "nForest(n)"
   ]
  },
  {
   "cell_type": "markdown",
   "metadata": {},
   "source": [
    "7. triangle pyramid\n"
   ]
  },
  {
   "cell_type": "code",
   "execution_count": 19,
   "metadata": {},
   "outputs": [
    {
     "name": "stdout",
     "output_type": "stream",
     "text": [
      "  x\n",
      " xxx \n",
      "xxxxx\n"
     ]
    }
   ],
   "source": [
    "# # def nForest(n:int)->None:\n",
    "# str='wvd'\n",
    "# str.rjust(32,'@')\n",
    "# print(str.rjust(32,'@'))\n",
    "# def nForest(n:int)->None:\n",
    "#     for i in range(n):\n",
    "#         print(\"*\".rjust(n-1,' '))\n",
    "n=3\n",
    "x=\"x\"\n",
    "for i in range(n):\n",
    "        if i==0:\n",
    "            print(x.rjust(n))\n",
    "        else:\n",
    "            print((x*i).rjust(n-i,' ')+x+(x*i).ljust(n-i,' '))\n",
    "      "
   ]
  },
  {
   "cell_type": "code",
   "execution_count": 31,
   "metadata": {},
   "outputs": [
    {
     "name": "stdout",
     "output_type": "stream",
     "text": [
      "  x\n",
      " xxx\n",
      "xxxxx\n"
     ]
    }
   ],
   "source": [
    "n=3\n",
    "x='x'\n",
    "for i in range(1,n+1):\n",
    "    print(\" \"*(n-i)+x*(2*i-1))"
   ]
  },
  {
   "cell_type": "markdown",
   "metadata": {},
   "source": [
    "8.upside down triangular pyramid\n"
   ]
  },
  {
   "cell_type": "code",
   "execution_count": 35,
   "metadata": {},
   "outputs": [
    {
     "name": "stdout",
     "output_type": "stream",
     "text": [
      "xxxxx\n",
      " xxx\n",
      "  x\n"
     ]
    }
   ],
   "source": [
    "n=3\n",
    "x='x'\n",
    "for i in range(n):\n",
    "    print(\" \"*i + x*(2*(n-i)-1))\n"
   ]
  },
  {
   "cell_type": "markdown",
   "metadata": {},
   "source": [
    "9.pyramid and inverted pyramid"
   ]
  },
  {
   "cell_type": "code",
   "execution_count": 36,
   "metadata": {},
   "outputs": [
    {
     "name": "stdout",
     "output_type": "stream",
     "text": [
      "  x\n",
      " xxx\n",
      "xxxxx\n",
      "xxxxx\n",
      " xxx\n",
      "  x\n"
     ]
    }
   ],
   "source": [
    "n=3\n",
    "x='x'\n",
    "for i in range(1,n+1):\n",
    "    print(\" \"*(n-i)+x*(2*i-1))\n",
    "for i in range(n):\n",
    "    print(\" \"*i + x*(2*(n-i)-1))\n"
   ]
  },
  {
   "cell_type": "markdown",
   "metadata": {},
   "source": [
    "10. Binary number trainagle"
   ]
  },
  {
   "cell_type": "code",
   "execution_count": 39,
   "metadata": {},
   "outputs": [
    {
     "name": "stdout",
     "output_type": "stream",
     "text": [
      "1\n",
      "01\n",
      "101\n",
      "0101\n",
      "10101\n",
      "010101\n"
     ]
    }
   ],
   "source": [
    "N = 6\n",
    "\n",
    "for i in range(1, N + 1):\n",
    "    for j in range(i):\n",
    "        print((j + i) % 2, end=\"\")\n",
    "    print()  # Moves to the next line after each row\n"
   ]
  },
  {
   "cell_type": "code",
   "execution_count": 42,
   "metadata": {},
   "outputs": [
    {
     "name": "stdout",
     "output_type": "stream",
     "text": [
      "1\n",
      "01\n",
      "101\n"
     ]
    }
   ],
   "source": [
    "n=3\n",
    "for i in range(1,n+1):\n",
    "    for j in range(i):\n",
    "        print((i+j)%2,end='')\n",
    "    print()"
   ]
  },
  {
   "cell_type": "code",
   "execution_count": 77,
   "metadata": {},
   "outputs": [
    {
     "name": "stdout",
     "output_type": "stream",
     "text": [
      "1    1\n",
      "12  21\n",
      "123321\n"
     ]
    }
   ],
   "source": [
    "n=3\n",
    "for i in range(1,n+1):\n",
    "    for j in range(i):\n",
    "        print(j+1,end=\"\")\n",
    "    print((\" \"*(n-i)*2),end=\"\")\n",
    "    for k in range(i,0,-1):\n",
    "        print(k,end=\"\")\n",
    "    print()"
   ]
  },
  {
   "cell_type": "code",
   "execution_count": null,
   "metadata": {},
   "outputs": [],
   "source": []
  }
 ],
 "metadata": {
  "kernelspec": {
   "display_name": "Python 3",
   "language": "python",
   "name": "python3"
  },
  "language_info": {
   "codemirror_mode": {
    "name": "ipython",
    "version": 3
   },
   "file_extension": ".py",
   "mimetype": "text/x-python",
   "name": "python",
   "nbconvert_exporter": "python",
   "pygments_lexer": "ipython3",
   "version": "3.12.2"
  }
 },
 "nbformat": 4,
 "nbformat_minor": 2
}
