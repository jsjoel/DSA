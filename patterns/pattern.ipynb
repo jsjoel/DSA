{
 "cells": [
  {
   "cell_type": "markdown",
   "metadata": {},
   "source": [
    "Printing Patterns\n"
   ]
  },
  {
   "cell_type": "markdown",
   "metadata": {},
   "source": [
    "1. Rectangular pattern"
   ]
  },
  {
   "cell_type": "code",
   "execution_count": null,
   "metadata": {},
   "outputs": [],
   "source": [
    "def nForest(n:int) ->None:\n",
    "\n",
    "    # Write your solution here.\n",
    "    for i in range(0,n):\n",
    "        print('* '*n)\n",
    "n=3\n",
    "nForest(n)"
   ]
  },
  {
   "cell_type": "markdown",
   "metadata": {},
   "source": [
    "2.Half triangle"
   ]
  },
  {
   "cell_type": "code",
   "execution_count": null,
   "metadata": {},
   "outputs": [],
   "source": [
    "def nForest(n:int) ->None:\n",
    "    for i in range(0,n):\n",
    "        print('* '*(i+1))\n",
    "\n",
    "n=3\n",
    "nForest(n)"
   ]
  },
  {
   "cell_type": "markdown",
   "metadata": {},
   "source": [
    "3.Half triangle with numbers"
   ]
  },
  {
   "cell_type": "code",
   "execution_count": null,
   "metadata": {},
   "outputs": [],
   "source": [
    "def nForest(n:int) ->None:\n",
    "    for row in range(1,n+1):\n",
    "        for col in range(1,row+1):\n",
    "            print(col,end=' ')\n",
    "        print()\n",
    "\n",
    "n=3\n",
    "nForest(n)"
   ]
  },
  {
   "cell_type": "code",
   "execution_count": null,
   "metadata": {},
   "outputs": [],
   "source": [
    "def nForest(n:int) ->None:\n",
    "    for row in range(1,n+1):\n",
    "        for col in range(1,row+1):\n",
    "            print(row,end=' ')\n",
    "        print()\n",
    "\n",
    "n=3\n",
    "nForest(n)"
   ]
  },
  {
   "cell_type": "markdown",
   "metadata": {},
   "source": [
    "5.Upside down triangle"
   ]
  },
  {
   "cell_type": "code",
   "execution_count": null,
   "metadata": {},
   "outputs": [],
   "source": [
    "def nForest(n:int) ->None:\n",
    "    for row in range(n):\n",
    "        print('* '*(n-row))\n",
    "\n",
    "n=3\n",
    "nForest(n)"
   ]
  },
  {
   "cell_type": "markdown",
   "metadata": {},
   "source": [
    "5.Upside down triangle with numbers"
   ]
  },
  {
   "cell_type": "code",
   "execution_count": null,
   "metadata": {},
   "outputs": [],
   "source": [
    "def nForest(n:int) ->None:\n",
    "    for i in range(n,0,-1):\n",
    "        for j in range(i):\n",
    "            print(j+1,end=' ')\n",
    "        print()\n",
    "\n",
    "\n",
    "n=3\n",
    "nForest(n)"
   ]
  },
  {
   "cell_type": "markdown",
   "metadata": {},
   "source": [
    "7. triangle pyramid\n"
   ]
  },
  {
   "cell_type": "code",
   "execution_count": null,
   "metadata": {},
   "outputs": [],
   "source": [
    "# # def nForest(n:int)->None:\n",
    "# str='wvd'\n",
    "# str.rjust(32,'@')\n",
    "# print(str.rjust(32,'@'))\n",
    "# def nForest(n:int)->None:\n",
    "#     for i in range(n):\n",
    "#         print(\"*\".rjust(n-1,' '))\n",
    "n=3\n",
    "x=\"x\"\n",
    "for i in range(n):\n",
    "        if i==0:\n",
    "            print(x.rjust(n))\n",
    "        else:\n",
    "            print((x*i).rjust(n-i,' ')+x+(x*i).ljust(n-i,' '))\n",
    "      "
   ]
  },
  {
   "cell_type": "code",
   "execution_count": null,
   "metadata": {},
   "outputs": [],
   "source": [
    "n=3\n",
    "x='x'\n",
    "for i in range(1,n+1):\n",
    "    print(\" \"*(n-i)+x*(2*i-1))"
   ]
  },
  {
   "cell_type": "markdown",
   "metadata": {},
   "source": [
    "8.upside down triangular pyramid\n"
   ]
  },
  {
   "cell_type": "code",
   "execution_count": null,
   "metadata": {},
   "outputs": [],
   "source": [
    "n=3\n",
    "x='x'\n",
    "for i in range(n):\n",
    "    print(\" \"*i + x*(2*(n-i)-1))\n"
   ]
  },
  {
   "cell_type": "markdown",
   "metadata": {},
   "source": [
    "9.pyramid and inverted pyramid"
   ]
  },
  {
   "cell_type": "code",
   "execution_count": null,
   "metadata": {},
   "outputs": [],
   "source": [
    "n=3\n",
    "x='x'\n",
    "for i in range(1,n+1):\n",
    "    print(\" \"*(n-i)+x*(2*i-1))\n",
    "for i in range(n):\n",
    "    print(\" \"*i + x*(2*(n-i)-1))\n"
   ]
  },
  {
   "cell_type": "markdown",
   "metadata": {},
   "source": [
    "10. Binary number trainagle"
   ]
  },
  {
   "cell_type": "code",
   "execution_count": null,
   "metadata": {},
   "outputs": [],
   "source": [
    "N = 6\n",
    "\n",
    "for i in range(1, N + 1):\n",
    "    for j in range(i):\n",
    "        print((j + i) % 2, end=\"\")\n",
    "    print()  # Moves to the next line after each row\n"
   ]
  },
  {
   "cell_type": "code",
   "execution_count": null,
   "metadata": {},
   "outputs": [],
   "source": [
    "n=3\n",
    "for i in range(1,n+1):\n",
    "    for j in range(i):\n",
    "        print((i+j)%2,end='')\n",
    "    print()"
   ]
  },
  {
   "cell_type": "code",
   "execution_count": null,
   "metadata": {},
   "outputs": [],
   "source": [
    "n=3\n",
    "for i in range(1,n+1):\n",
    "    for j in range(i):\n",
    "        print(j+1,end=\"\")\n",
    "    print((\" \"*(n-i)*2),end=\"\")\n",
    "    for k in range(i,0,-1):\n",
    "        print(k,end=\"\")\n",
    "    print()"
   ]
  },
  {
   "cell_type": "code",
   "execution_count": null,
   "metadata": {},
   "outputs": [],
   "source": [
    "n=5\n",
    "k=1\n",
    "for row  in range(n):\n",
    "    for column in range(row+1):\n",
    "        print(k,end = \" \")\n",
    "        k+=1\n",
    "    print()"
   ]
  },
  {
   "cell_type": "code",
   "execution_count": null,
   "metadata": {},
   "outputs": [],
   "source": [
    "n=5\n",
    "k=65\n",
    "for row  in range(n):\n",
    "    for column in range(row+1):\n",
    "        print(chr(k),end = \" \")\n",
    "        k+=1\n",
    "    print()"
   ]
  },
  {
   "cell_type": "code",
   "execution_count": null,
   "metadata": {},
   "outputs": [],
   "source": [
    "n=3\n",
    "\n",
    "\n",
    "for row in range(n):\n",
    "    k=65\n",
    "    for   column  in range(n,row,-1):\n",
    "        \n",
    "        print(chr(k),end=\"\")\n",
    "        k+=1\n",
    "    \n",
    "    print()"
   ]
  },
  {
   "cell_type": "code",
   "execution_count": null,
   "metadata": {},
   "outputs": [],
   "source": [
    "n=3\n",
    "k=65\n",
    "for  row in range(n):\n",
    "    for col in range(row+1):\n",
    "        print(chr(k),end='')\n",
    "         \n",
    "    \n",
    "    print()\n",
    "    k+=1\n",
    "    "
   ]
  },
  {
   "cell_type": "code",
   "execution_count": null,
   "metadata": {},
   "outputs": [],
   "source": [
    "n=3\n",
    "for i in range(1,n+1):\n",
    "    print(\" \"*(n-i), end=\"\")\n",
    "    k=65\n",
    "    for j in range(i):\n",
    "        print(chr(k),end=\"\")\n",
    "        k+=1\n",
    "    if i==1:\n",
    "        print()\n",
    "    else:\n",
    "        k-=1\n",
    "        for l in range(1,i):\n",
    "            k-=1\n",
    "            print(chr(k),end=\"\")\n",
    "        print()\n",
    "\n"
   ]
  },
  {
   "cell_type": "code",
   "execution_count": null,
   "metadata": {},
   "outputs": [],
   "source": [
    "n=5\n",
    "k=65+n\n",
    "for  row in range(n):\n",
    "    k=65+n-row-1\n",
    "    for  col in range(row+1):\n",
    "        print(chr(k),end='')\n",
    "        k+=1\n",
    "    print()"
   ]
  },
  {
   "cell_type": "code",
   "execution_count": null,
   "metadata": {},
   "outputs": [],
   "source": [
    "n=5\n",
    "# for i in range(1,n+1):\n",
    "for j in range(n):\n",
    "    print('@'*(n-j)+' '*(j*2)+'@'*(n-j))\n",
    "for i in range(1,n+1):\n",
    "    print('@'*(i)+' '*(n-i)*2+'@'*(i))"
   ]
  },
  {
   "cell_type": "code",
   "execution_count": null,
   "metadata": {},
   "outputs": [],
   "source": [
    "n=5\n",
    "for i in range(1,n+1):\n",
    "    print('@'*i+' '*(n-i)*2+'@'*i)\n",
    "for j in range(1,n):\n",
    "    print('@'*(n-j)+' '* j*2 +'@'*(n-j))"
   ]
  },
  {
   "cell_type": "code",
   "execution_count": null,
   "metadata": {},
   "outputs": [],
   "source": [
    "n=10\n",
    "for i in range(n):\n",
    "    if  i == 0 or  i == n-1:\n",
    "        print(\"*\"*n)\n",
    "    else:\n",
    "        print(\"*\"+' '*(n-2)+'*')\n",
    "\n",
    "\n"
   ]
  },
  {
   "cell_type": "code",
   "execution_count": null,
   "metadata": {},
   "outputs": [],
   "source": [
    "n=5\n",
    "for i in range(n):\n",
    "    for j in range(n):\n",
    "        if i==0 or  j==0 or i==n-1 or j==n-1 :\n",
    "            print('*',end='')\n",
    "        else:\n",
    "            print(' ',end='')\n",
    "    print()\n",
    "\n"
   ]
  },
  {
   "cell_type": "code",
   "execution_count": null,
   "metadata": {},
   "outputs": [],
   "source": [
    "n=5\n",
    "a=0\n",
    "b=0\n",
    "for i in range(n,0,-1):\n",
    "    for j in range(n,0,-1):\n",
    "        if n-i==0 |  n-j==0 |  i == \n",
    "\n"
   ]
  },
  {
   "cell_type": "markdown",
   "metadata": {},
   "source": [
    "33333\n",
    "32223\n",
    "32123\n",
    "32223\n",
    "33333"
   ]
  },
  {
   "cell_type": "code",
   "execution_count": null,
   "metadata": {},
   "outputs": [],
   "source": []
  }
 ],
 "metadata": {
  "kernelspec": {
   "display_name": "Python 3",
   "language": "python",
   "name": "python3"
  },
  "language_info": {
   "codemirror_mode": {
    "name": "ipython",
    "version": 3
   },
   "file_extension": ".py",
   "mimetype": "text/x-python",
   "name": "python",
   "nbconvert_exporter": "python",
   "pygments_lexer": "ipython3",
   "version": "3.12.2"
  }
 },
 "nbformat": 4,
 "nbformat_minor": 2
}
